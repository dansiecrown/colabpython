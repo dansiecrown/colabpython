{
  "nbformat": 4,
  "nbformat_minor": 0,
  "metadata": {
    "colab": {
      "provenance": [],
      "authorship_tag": "ABX9TyPwWq1xXPYC/xSY7T7nHWw2",
      "include_colab_link": true
    },
    "kernelspec": {
      "name": "python3",
      "display_name": "Python 3"
    },
    "language_info": {
      "name": "python"
    }
  },
  "cells": [
    {
      "cell_type": "markdown",
      "metadata": {
        "id": "view-in-github",
        "colab_type": "text"
      },
      "source": [
        "<a href=\"https://colab.research.google.com/github/dansiecrown/colabpython/blob/main/Level1.ipynb\" target=\"_parent\"><img src=\"https://colab.research.google.com/assets/colab-badge.svg\" alt=\"Open In Colab\"/></a>"
      ]
    },
    {
      "cell_type": "code",
      "execution_count": 4,
      "metadata": {
        "colab": {
          "base_uri": "https://localhost:8080/"
        },
        "id": "V82c2lqUqAn2",
        "outputId": "1af21651-2032-4d82-b906-f89b3ffa846c"
      },
      "outputs": [
        {
          "output_type": "stream",
          "name": "stdout",
          "text": [
            "Darth Vader\n",
            "19\n",
            "<class 'str'>\n"
          ]
        }
      ],
      "source": [
        "name = \"Darth Vader\"\n",
        "print(name)\n",
        "age = 19\n",
        "print(age)\n",
        "\n",
        "print(type(name))"
      ]
    }
  ]
}